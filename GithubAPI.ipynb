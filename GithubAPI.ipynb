{
 "metadata": {
  "name": "",
  "signature": "sha256:6470f9be6b9e05bd456d53a25ad33a753cb34791ba023260eeb669b848b044f1"
 },
 "nbformat": 3,
 "nbformat_minor": 0,
 "worksheets": [
  {
   "cells": [
    {
     "cell_type": "heading",
     "level": 1,
     "metadata": {},
     "source": [
      "Playing with Github Api - GitLinks"
     ]
    },
    {
     "cell_type": "code",
     "collapsed": false,
     "input": [
      "import matplotlib.pyplot as plt\n",
      "import numpy as np\n",
      "import pandas as pd\n",
      "%matplotlib inline"
     ],
     "language": "python",
     "metadata": {},
     "outputs": [],
     "prompt_number": 22
    },
    {
     "cell_type": "code",
     "collapsed": false,
     "input": [
      "from github import Github #http://jacquev6.net/PyGithub/v1/introduction.html"
     ],
     "language": "python",
     "metadata": {},
     "outputs": [],
     "prompt_number": 23
    },
    {
     "cell_type": "code",
     "collapsed": false,
     "input": [
      "import os\n",
      "user = os.environ['GITHUB_USER']\n",
      "token = os.environ['GITHUB_TOKEN']\n",
      "password = os.environ['GITHUB_PASSWORD']"
     ],
     "language": "python",
     "metadata": {},
     "outputs": [],
     "prompt_number": 24
    },
    {
     "cell_type": "code",
     "collapsed": false,
     "input": [
      "g = Github(token)"
     ],
     "language": "python",
     "metadata": {},
     "outputs": [],
     "prompt_number": 25
    },
    {
     "cell_type": "code",
     "collapsed": false,
     "input": [
      "users = [\"pocman\", \"callicles\", \"jacobtardieu\", \"sheymann\"]\n",
      "searched_users = [g.search_users(u) for u in users]\n",
      "get_users = [g.get_user(u) for u in users]"
     ],
     "language": "python",
     "metadata": {},
     "outputs": [],
     "prompt_number": 38
    },
    {
     "cell_type": "code",
     "collapsed": false,
     "input": [
      "for u in get_users:\n",
      "    print \"_________%s_________\" % u.name\n",
      "    for r in u.get_repos():\n",
      "        print r.name "
     ],
     "language": "python",
     "metadata": {},
     "outputs": [
      {
       "output_type": "stream",
       "stream": "stdout",
       "text": [
        "_________Thomas_________\n",
        "AircraftLanding"
       ]
      },
      {
       "output_type": "stream",
       "stream": "stdout",
       "text": [
        "\n",
        "awesome-bigdata\n",
        "Census_analysis\n",
        "cs109\n",
        "docker-kafka\n",
        "elasticsearch\n",
        "gitATrouverUnNomIdiot\n",
        "hermann\n",
        "Ipipip\n",
        "Probabilistic-Programming-and-Bayesian-Methods-for-Hackers\n",
        "s2-geometry-library\n",
        "s2-geometry-library-java-sbt\n",
        "_________Nicolas Joseph_________\n",
        "firestorm-prototype"
       ]
      },
      {
       "output_type": "stream",
       "stream": "stdout",
       "text": [
        "\n",
        "firestorm-test\n",
        "flot-events\n",
        "is.js\n",
        "meteor-invite\n",
        "MinesTravelStarkTeam\n",
        "OCAapplication\n",
        "PortfolioWordPressTheme\n",
        "scanjs\n",
        "scanjs-devtools\n",
        "VivaldiMonitoringDart\n",
        "VivaldiMonitoringPlay\n",
        "_________Jacob Tardieu_________\n",
        "furry-octo-bear"
       ]
      },
      {
       "output_type": "stream",
       "stream": "stdout",
       "text": [
        "\n",
        "MinesTravel\n",
        "Netwemo\n",
        "oh-my-zsh\n",
        "phoenix\n",
        "sandwichOrder\n",
        "tinderbox\n",
        "translationChooser\n",
        "_________S\u00e9bastien Heymann_________\n",
        "apidoc"
       ]
      },
      {
       "output_type": "stream",
       "stream": "stdout",
       "text": [
        "\n",
        "batch-import\n",
        "beamer-lip6-template\n",
        "blueprints\n",
        "chroma.js\n",
        "color\n",
        "docco\n",
        "edgestream-to-neo4j\n",
        "gephi\n",
        "gexf-primer\n",
        "gitbook-test\n",
        "githubarchive.org\n",
        "grunt-template-jasmine-sigmajs\n",
        "isigma.js\n",
        "iwanthue\n",
        "jLouvain\n",
        "jquery.tristate\n",
        "mod-tinkerpop-persistor\n",
        "ng-doodle\n",
        "ngbp\n",
        "outskewer\n",
        "outskewer.r\n",
        "palettes\n",
        "sigma.js\n",
        "visuweb\n"
       ]
      }
     ],
     "prompt_number": 45
    },
    {
     "cell_type": "code",
     "collapsed": false,
     "input": [],
     "language": "python",
     "metadata": {},
     "outputs": []
    }
   ],
   "metadata": {}
  }
 ]
}