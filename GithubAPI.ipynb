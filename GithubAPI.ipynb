{
 "metadata": {
  "name": "",
  "signature": "sha256:2466acd310ed86e34497f529532e5e12cb4d01b746cec23a9ece3d230ffcf46e"
 },
 "nbformat": 3,
 "nbformat_minor": 0,
 "worksheets": [
  {
   "cells": [
    {
     "cell_type": "heading",
     "level": 1,
     "metadata": {},
     "source": [
      "Playing with Github Api - GitLinks"
     ]
    },
    {
     "cell_type": "code",
     "collapsed": false,
     "input": [
      "import matplotlib.pyplot as plt\n",
      "import numpy as np\n",
      "import pandas as pd\n",
      "%matplotlib inline"
     ],
     "language": "python",
     "metadata": {},
     "outputs": [],
     "prompt_number": 2
    },
    {
     "cell_type": "code",
     "collapsed": false,
     "input": [
      "from github import Github #http://jacquev6.net/PyGithub/v1/introduction.html"
     ],
     "language": "python",
     "metadata": {},
     "outputs": [],
     "prompt_number": 3
    },
    {
     "cell_type": "code",
     "collapsed": false,
     "input": [
      "import os\n",
      "user = os.environ['GITHUB_USER']\n",
      "token = os.environ['GITHUB_TOKEN']\n",
      "password = os.environ['GITHUB_PASSWORD']"
     ],
     "language": "python",
     "metadata": {},
     "outputs": [],
     "prompt_number": 4
    },
    {
     "cell_type": "code",
     "collapsed": false,
     "input": [
      "g = Github(token)"
     ],
     "language": "python",
     "metadata": {},
     "outputs": [],
     "prompt_number": 5
    },
    {
     "cell_type": "code",
     "collapsed": false,
     "input": [
      "print g.rate_limiting\n",
      "from datetime import datetime\n",
      "print datetime.fromtimestamp(g.rate_limiting_resettime) "
     ],
     "language": "python",
     "metadata": {},
     "outputs": [
      {
       "output_type": "stream",
       "stream": "stdout",
       "text": [
        "(4958, 5000)\n",
        "2015-05-27 22:06:49\n"
       ]
      }
     ],
     "prompt_number": 6
    },
    {
     "cell_type": "heading",
     "level": 3,
     "metadata": {},
     "source": [
      "Search users or get user"
     ]
    },
    {
     "cell_type": "markdown",
     "metadata": {},
     "source": [
      "We use :\n",
      "* GET /search/users\n",
      "* GET /users/:username\n",
      "* GET /user/repos"
     ]
    },
    {
     "cell_type": "code",
     "collapsed": false,
     "input": [
      "users = [\"pocman\", \"callicles\", \"jacobtardieu\", \"sheymann\"]\n",
      "searched_users = [g.search_users(u) for u in users]\n",
      "get_users = [g.get_user(u) for u in users]"
     ],
     "language": "python",
     "metadata": {},
     "outputs": [],
     "prompt_number": 7
    },
    {
     "cell_type": "code",
     "collapsed": false,
     "input": [
      "for u in get_users:\n",
      "    print \"_________%s_________\" % u.name\n",
      "    for r in u.get_repos():\n",
      "        print r.full_name"
     ],
     "language": "python",
     "metadata": {},
     "outputs": [
      {
       "output_type": "stream",
       "stream": "stdout",
       "text": [
        "_________Thomas_________\n",
        "pocman/AircraftLanding"
       ]
      },
      {
       "output_type": "stream",
       "stream": "stdout",
       "text": [
        "\n",
        "pocman/awesome-bigdata\n",
        "pocman/Census_analysis\n",
        "pocman/cs109\n",
        "pocman/docker-kafka\n",
        "pocman/elasticsearch\n",
        "pocman/gitATrouverUnNomIdiot\n",
        "pocman/hermann\n",
        "pocman/Ipipip\n",
        "pocman/Probabilistic-Programming-and-Bayesian-Methods-for-Hackers\n",
        "pocman/s2-geometry-library\n",
        "pocman/s2-geometry-library-java-sbt\n",
        "_________Nicolas Joseph_________\n",
        "callicles/firestorm-prototype"
       ]
      },
      {
       "output_type": "stream",
       "stream": "stdout",
       "text": [
        "\n",
        "callicles/firestorm-test\n",
        "callicles/flot-events\n",
        "callicles/is.js\n",
        "callicles/meteor-invite\n",
        "callicles/MinesTravelStarkTeam\n",
        "callicles/OCAapplication\n",
        "callicles/PortfolioWordPressTheme\n",
        "callicles/scanjs\n",
        "callicles/scanjs-devtools\n",
        "callicles/VivaldiMonitoringDart\n",
        "callicles/VivaldiMonitoringPlay\n",
        "_________Jacob Tardieu_________\n",
        "jacobtardieu/furry-octo-bear"
       ]
      },
      {
       "output_type": "stream",
       "stream": "stdout",
       "text": [
        "\n",
        "jacobtardieu/MinesTravel\n",
        "jacobtardieu/Netwemo\n",
        "jacobtardieu/oh-my-zsh\n",
        "jacobtardieu/phoenix\n",
        "jacobtardieu/sandwichOrder\n",
        "jacobtardieu/tinderbox\n",
        "jacobtardieu/translationChooser\n",
        "_________S\u00e9bastien Heymann_________\n",
        "sheymann/apidoc"
       ]
      },
      {
       "output_type": "stream",
       "stream": "stdout",
       "text": [
        "\n",
        "sheymann/batch-import\n",
        "sheymann/beamer-lip6-template\n",
        "sheymann/blueprints\n",
        "sheymann/chroma.js\n",
        "sheymann/color\n",
        "sheymann/docco\n",
        "sheymann/edgestream-to-neo4j\n",
        "sheymann/gephi\n",
        "sheymann/gexf-primer\n",
        "sheymann/gitbook-test\n",
        "sheymann/githubarchive.org\n",
        "sheymann/grunt-template-jasmine-sigmajs\n",
        "sheymann/isigma.js\n",
        "sheymann/iwanthue\n",
        "sheymann/jLouvain\n",
        "sheymann/jquery.tristate\n",
        "sheymann/mod-tinkerpop-persistor\n",
        "sheymann/ng-doodle\n",
        "sheymann/ngbp\n",
        "sheymann/outskewer\n",
        "sheymann/outskewer.r\n",
        "sheymann/palettes\n",
        "sheymann/sigma.js\n",
        "sheymann/visuweb\n"
       ]
      }
     ],
     "prompt_number": 8
    },
    {
     "cell_type": "code",
     "collapsed": false,
     "input": [
      "get_repos = { u.login : u.get_repos() for u in get_users }"
     ],
     "language": "python",
     "metadata": {},
     "outputs": [],
     "prompt_number": 9
    },
    {
     "cell_type": "heading",
     "level": 3,
     "metadata": {},
     "source": [
      "Search code for user weight"
     ]
    },
    {
     "cell_type": "markdown",
     "metadata": {},
     "source": [
      "we use: \n",
      "* GET /search/code"
     ]
    },
    {
     "cell_type": "code",
     "collapsed": false,
     "input": [
      "import time\n",
      "for user, repos in get_repos.items():\n",
      "    print \"_________%s______\" % user\n",
      "    for code in g.search_code(\"bootstrap user:%s\" % user):\n",
      "        print code.name"
     ],
     "language": "python",
     "metadata": {},
     "outputs": [
      {
       "output_type": "stream",
       "stream": "stdout",
       "text": [
        "_________callicles______\n",
        "install.rdf"
       ]
      },
      {
       "output_type": "stream",
       "stream": "stdout",
       "text": [
        "\n",
        "dataTables.bootstrap.js\n",
        "bootstrap.dart\n",
        "bootstrap.dart\n",
        "angular.dart\n",
        "angular.dart\n",
        "metisMenu.css\n",
        "bootstrap.js\n",
        "bootstrap.js\n",
        "dart.js\n",
        "dart.js\n",
        "index.html\n",
        "metisMenu.js\n",
        "bootstrap.js\n",
        "dropdown.dart\n",
        "dropdown.dart\n",
        "monitoringvivaldiclient.html\n",
        "template_cache.dart\n",
        "template_cache.dart\n",
        "build.txt\n",
        "sb-admin-2.css\n",
        "bootstrap-theme.css\n",
        "bootstrap-theme.css.map\n",
        "filter.dart\n",
        "filter.dart\n",
        "bootstrap-theme.css.map\n",
        "bootstrap-theme.css\n",
        "bootstrap.css.map\n",
        "bootstrap.css.map\n",
        "variables.less\n",
        "_variables.scss"
       ]
      },
      {
       "output_type": "stream",
       "stream": "stdout",
       "text": [
        "\n",
        "bootstrap.css\n",
        "bootstrap.css\n",
        "bootstrap.css\n",
        "bootstrap.css\n",
        "_________pocman______\n",
        "_________sheymann______"
       ]
      },
      {
       "output_type": "stream",
       "stream": "stdout",
       "text": [
        "\n",
        "events.less"
       ]
      },
      {
       "output_type": "stream",
       "stream": "stdout",
       "text": [
        "\n",
        "register.less\n",
        "bower.json\n",
        "variables.less\n",
        "build.config.js\n",
        "app.less\n",
        "index.html\n",
        "README.md\n",
        "tools.md\n",
        "nodeshapes.html\n",
        "project.sublime-workspace\n",
        "_________jacobtardieu______\n",
        "layout.html"
       ]
      },
      {
       "output_type": "stream",
       "stream": "stdout",
       "text": [
        "\n",
        "main.scala.html\n",
        "main.html\n",
        "bootstrap.js\n",
        "Bootstrap.java\n",
        "bootstrap.js\n",
        "build.txt\n",
        "bootstrap-theme.css\n",
        "bootstrap-theme.css.map\n",
        "bootstrap.css.map\n",
        "web.xml\n",
        "web.xml\n",
        "web.xml\n",
        "bootstrap-responsive.css\n",
        "bootstrap.css\n",
        "bootstrap.css\n"
       ]
      }
     ],
     "prompt_number": 19
    },
    {
     "cell_type": "heading",
     "level": 3,
     "metadata": {},
     "source": [
      "User Karma"
     ]
    },
    {
     "cell_type": "markdown",
     "metadata": {},
     "source": [
      "Some stats about user's repos"
     ]
    },
    {
     "cell_type": "code",
     "collapsed": false,
     "input": [
      "for u, repos in get_repos.items():\n",
      "    print \"_______%s______\", u\n",
      "    for r in repos:\n",
      "        print \"forked: %s ------ starts: %d\" % (r.fork, r.stargazers_count)"
     ],
     "language": "python",
     "metadata": {},
     "outputs": [
      {
       "output_type": "stream",
       "stream": "stdout",
       "text": [
        "_______%s______ callicles\n",
        "forked: False ------ starts: 0\n",
        "forked: False ------ starts: 0\n",
        "forked: True ------ starts: 0\n",
        "forked: True ------ starts: 0\n",
        "forked: False ------ starts: 1\n",
        "forked: False ------ starts: 0\n",
        "forked: False ------ starts: 0\n",
        "forked: True ------ starts: 0\n",
        "forked: True ------ starts: 0\n",
        "forked: False ------ starts: 0\n",
        "forked: False ------ starts: 1\n",
        "forked: False ------ starts: 1\n",
        "_______%s______ pocman\n",
        "forked: False ------ starts: 1\n",
        "forked: True ------ starts: 0\n",
        "forked: False ------ starts: 0\n",
        "forked: False ------ starts: 0\n",
        "forked: True ------ starts: 0\n",
        "forked: True ------ starts: 0\n",
        "forked: False ------ starts: 0\n",
        "forked: True ------ starts: 0\n",
        "forked: False ------ starts: 1\n",
        "forked: True ------ starts: 0\n",
        "forked: False ------ starts: 0\n",
        "forked: False ------ starts: 0\n",
        "_______%s______ sheymann\n",
        "forked: True ------ starts: 0\n",
        "forked: True ------ starts: 0\n",
        "forked: False ------ starts: 5\n",
        "forked: True ------ starts: 0\n",
        "forked: True ------ starts: 0\n",
        "forked: True ------ starts: 0\n",
        "forked: True ------ starts: 0\n",
        "forked: False ------ starts: 0\n",
        "forked: True ------ starts: 1\n",
        "forked: False ------ starts: 9\n",
        "forked: False ------ starts: 0\n",
        "forked: True ------ starts: 2\n",
        "forked: False ------ starts: 0\n",
        "forked: False ------ starts: 9\n",
        "forked: True ------ starts: 0\n",
        "forked: True ------ starts: 0\n",
        "forked: True ------ starts: 0\n",
        "forked: True ------ starts: 0\n",
        "forked: False ------ starts: 0\n",
        "forked: True ------ starts: 0\n",
        "forked: False ------ starts: 3\n",
        "forked: False ------ starts: 3\n",
        "forked: True ------ starts: 0\n",
        "forked: True ------ starts: 0\n",
        "forked: False ------ starts: 2\n",
        "_______%s______ jacobtardieu\n",
        "forked: False ------ starts: 0\n",
        "forked: False ------ starts: 0\n",
        "forked: False ------ starts: 0\n",
        "forked: True ------ starts: 0\n",
        "forked: True ------ starts: 0\n",
        "forked: False ------ starts: 0\n",
        "forked: True ------ starts: 0\n",
        "forked: False ------ starts: 2\n"
       ]
      }
     ],
     "prompt_number": 83
    },
    {
     "cell_type": "markdown",
     "metadata": {},
     "source": [
      "We use the list of all contributors for every user's repo `GET /repos/:owner/:repo/contributors`.\n",
      "For each contributor, we can use `GET /repos/:owner/:repo/stats/contributors` that will return line contribution for that user."
     ]
    },
    {
     "cell_type": "code",
     "collapsed": false,
     "input": [
      "for u, repos in get_repos.items():\n",
      "    print \"_______%s______\" % u\n",
      "    for r in repos:\n",
      "        try:\n",
      "            contributions = [1 for c in r.get_contributors()]\n",
      "            print \"forked: %s ------ contributors: %d\" % (r.fork, len(contributions))\n",
      "        except TypeError:\n",
      "            print \"forked: %s ------ contributors: 0\" % r.fork"
     ],
     "language": "python",
     "metadata": {},
     "outputs": [
      {
       "output_type": "stream",
       "stream": "stdout",
       "text": [
        "_______callicles______\n",
        "forked: False ------ contributors: 1"
       ]
      },
      {
       "output_type": "stream",
       "stream": "stdout",
       "text": [
        "\n",
        "forked: False ------ contributors: 1"
       ]
      },
      {
       "output_type": "stream",
       "stream": "stdout",
       "text": [
        "\n",
        "forked: True ------ contributors: 2"
       ]
      },
      {
       "output_type": "stream",
       "stream": "stdout",
       "text": [
        "\n",
        "forked: True ------ contributors: 21"
       ]
      },
      {
       "output_type": "stream",
       "stream": "stdout",
       "text": [
        "\n",
        "forked: False ------ contributors: 1"
       ]
      },
      {
       "output_type": "stream",
       "stream": "stdout",
       "text": [
        "\n",
        "forked: False ------ contributors: 7"
       ]
      },
      {
       "output_type": "stream",
       "stream": "stdout",
       "text": [
        "\n",
        "forked: False ------ contributors: 2"
       ]
      },
      {
       "output_type": "stream",
       "stream": "stdout",
       "text": [
        "\n",
        "forked: True ------ contributors: 21"
       ]
      },
      {
       "output_type": "stream",
       "stream": "stdout",
       "text": [
        "\n",
        "forked: True ------ contributors: 8"
       ]
      },
      {
       "output_type": "stream",
       "stream": "stdout",
       "text": [
        "\n",
        "forked: False ------ contributors: 1"
       ]
      },
      {
       "output_type": "stream",
       "stream": "stdout",
       "text": [
        "\n",
        "forked: False ------ contributors: 1"
       ]
      },
      {
       "output_type": "stream",
       "stream": "stdout",
       "text": [
        "\n",
        "forked: False ------ contributors: 1"
       ]
      },
      {
       "output_type": "stream",
       "stream": "stdout",
       "text": [
        "\n",
        "_______pocman______\n",
        "forked: False ------ contributors: 4"
       ]
      },
      {
       "output_type": "stream",
       "stream": "stdout",
       "text": [
        "\n",
        "forked: True ------ contributors: 16"
       ]
      },
      {
       "output_type": "stream",
       "stream": "stdout",
       "text": [
        "\n",
        "forked: False ------ contributors: 1"
       ]
      },
      {
       "output_type": "stream",
       "stream": "stdout",
       "text": [
        "\n",
        "forked: False ------ contributors: 13"
       ]
      },
      {
       "output_type": "stream",
       "stream": "stdout",
       "text": [
        "\n",
        "forked: True ------ contributors: 3"
       ]
      },
      {
       "output_type": "stream",
       "stream": "stdout",
       "text": [
        "\n",
        "forked: True ------ contributors: 248"
       ]
      },
      {
       "output_type": "stream",
       "stream": "stdout",
       "text": [
        "\n",
        "forked: False ------ contributors: 3"
       ]
      },
      {
       "output_type": "stream",
       "stream": "stdout",
       "text": [
        "\n",
        "forked: True ------ contributors: 5"
       ]
      },
      {
       "output_type": "stream",
       "stream": "stdout",
       "text": [
        "\n",
        "forked: %s ------ contributors: 0"
       ]
      },
      {
       "output_type": "stream",
       "stream": "stdout",
       "text": [
        "\n",
        "forked: True ------ contributors: 79"
       ]
      },
      {
       "output_type": "stream",
       "stream": "stdout",
       "text": [
        "\n",
        "forked: False ------ contributors: 0"
       ]
      },
      {
       "output_type": "stream",
       "stream": "stdout",
       "text": [
        "\n",
        "forked: False ------ contributors: 1"
       ]
      },
      {
       "output_type": "stream",
       "stream": "stdout",
       "text": [
        "\n",
        "_______sheymann______\n",
        "forked: True ------ contributors: 9"
       ]
      },
      {
       "output_type": "stream",
       "stream": "stdout",
       "text": [
        "\n",
        "forked: True ------ contributors: 5"
       ]
      },
      {
       "output_type": "stream",
       "stream": "stdout",
       "text": [
        "\n",
        "forked: False ------ contributors: 1"
       ]
      },
      {
       "output_type": "stream",
       "stream": "stdout",
       "text": [
        "\n",
        "forked: True ------ contributors: 34"
       ]
      },
      {
       "output_type": "stream",
       "stream": "stdout",
       "text": [
        "\n",
        "forked: True ------ contributors: 4"
       ]
      },
      {
       "output_type": "stream",
       "stream": "stdout",
       "text": [
        "\n",
        "forked: True ------ contributors: 2"
       ]
      },
      {
       "output_type": "stream",
       "stream": "stdout",
       "text": [
        "\n",
        "forked: True ------ contributors: 47"
       ]
      },
      {
       "output_type": "stream",
       "stream": "stdout",
       "text": [
        "\n",
        "forked: False ------ contributors: 1"
       ]
      },
      {
       "output_type": "stream",
       "stream": "stdout",
       "text": [
        "\n",
        "forked: True ------ contributors: 14"
       ]
      },
      {
       "output_type": "stream",
       "stream": "stdout",
       "text": [
        "\n",
        "forked: False ------ contributors: 2"
       ]
      },
      {
       "output_type": "stream",
       "stream": "stdout",
       "text": [
        "\n",
        "forked: False ------ contributors: 1"
       ]
      },
      {
       "output_type": "stream",
       "stream": "stdout",
       "text": [
        "\n",
        "forked: True ------ contributors: 4"
       ]
      },
      {
       "output_type": "stream",
       "stream": "stdout",
       "text": [
        "\n",
        "forked: False ------ contributors: 1"
       ]
      },
      {
       "output_type": "stream",
       "stream": "stdout",
       "text": [
        "\n",
        "forked: False ------ contributors: 7"
       ]
      },
      {
       "output_type": "stream",
       "stream": "stdout",
       "text": [
        "\n",
        "forked: True ------ contributors: 3"
       ]
      },
      {
       "output_type": "stream",
       "stream": "stdout",
       "text": [
        "\n",
        "forked: True ------ contributors: 1"
       ]
      },
      {
       "output_type": "stream",
       "stream": "stdout",
       "text": [
        "\n",
        "forked: True ------ contributors: 1"
       ]
      },
      {
       "output_type": "stream",
       "stream": "stdout",
       "text": [
        "\n",
        "forked: True ------ contributors: 1"
       ]
      },
      {
       "output_type": "stream",
       "stream": "stdout",
       "text": [
        "\n",
        "forked: False ------ contributors: 1"
       ]
      },
      {
       "output_type": "stream",
       "stream": "stdout",
       "text": [
        "\n",
        "forked: True ------ contributors: 12"
       ]
      },
      {
       "output_type": "stream",
       "stream": "stdout",
       "text": [
        "\n",
        "forked: False ------ contributors: 1"
       ]
      },
      {
       "output_type": "stream",
       "stream": "stdout",
       "text": [
        "\n",
        "forked: False ------ contributors: 1"
       ]
      },
      {
       "output_type": "stream",
       "stream": "stdout",
       "text": [
        "\n",
        "forked: True ------ contributors: 1"
       ]
      },
      {
       "output_type": "stream",
       "stream": "stdout",
       "text": [
        "\n",
        "forked: True ------ contributors: 9"
       ]
      },
      {
       "output_type": "stream",
       "stream": "stdout",
       "text": [
        "\n",
        "forked: False ------ contributors: 1"
       ]
      },
      {
       "output_type": "stream",
       "stream": "stdout",
       "text": [
        "\n",
        "_______jacobtardieu______\n",
        "forked: False ------ contributors: 8"
       ]
      },
      {
       "output_type": "stream",
       "stream": "stdout",
       "text": [
        "\n",
        "forked: False ------ contributors: 8"
       ]
      },
      {
       "output_type": "stream",
       "stream": "stdout",
       "text": [
        "\n",
        "forked: False ------ contributors: 1"
       ]
      },
      {
       "output_type": "stream",
       "stream": "stdout",
       "text": [
        "\n",
        "forked: True ------ contributors: 422"
       ]
      },
      {
       "output_type": "stream",
       "stream": "stdout",
       "text": [
        "\n",
        "forked: True ------ contributors: 19"
       ]
      },
      {
       "output_type": "stream",
       "stream": "stdout",
       "text": [
        "\n",
        "forked: False ------ contributors: 2"
       ]
      },
      {
       "output_type": "stream",
       "stream": "stdout",
       "text": [
        "\n",
        "forked: True ------ contributors: 11"
       ]
      },
      {
       "output_type": "stream",
       "stream": "stdout",
       "text": [
        "\n",
        "forked: False ------ contributors: 2"
       ]
      },
      {
       "output_type": "stream",
       "stream": "stdout",
       "text": [
        "\n"
       ]
      }
     ],
     "prompt_number": 90
    },
    {
     "cell_type": "heading",
     "level": 1,
     "metadata": {},
     "source": [
      "TODO : Still don't know how to find every repo the user contributed to"
     ]
    },
    {
     "cell_type": "code",
     "collapsed": false,
     "input": [],
     "language": "python",
     "metadata": {},
     "outputs": []
    }
   ],
   "metadata": {}
  }
 ]
}