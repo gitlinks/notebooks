{
 "cells": [
  {
   "cell_type": "markdown",
   "metadata": {},
   "source": [
    "# Github API v3 - Collect contributions"
   ]
  },
  {
   "cell_type": "code",
   "execution_count": 39,
   "metadata": {
    "collapsed": false
   },
   "outputs": [
    {
     "name": "stdout",
     "output_type": "stream",
     "text": [
      "(4783, 5000)\n",
      "2015-05-30 17:54:09\n",
      "Thomas\n",
      "============================================\n",
      "-> API Limit state: (4773, 5000)\n",
      "\n",
      "-> Contributions collected:\n",
      "gitlinks/notebooks 4\n",
      "Colisweb/kafka-docker 2\n",
      "============================================\n",
      "-> API Limit state: (4763, 5000)\n",
      "\n",
      "-> Contributions collected:\n",
      "gitlinks/notebooks 4\n",
      "pocman/docker-kafka 3\n",
      "Colisweb/kafka-docker 3\n",
      "pocman/hermann 4\n",
      "pocman/s2-geometry-library-java-sbt 1\n",
      "============================================\n",
      "-> API Limit state: (4753, 5000)\n",
      "\n",
      "-> Contributions collected:\n",
      "gitlinks/notebooks 4\n",
      "pocman/docker-kafka 3\n",
      "Colisweb/kafka-docker 3\n",
      "pocman/hermann 4\n",
      "pocman/s2-geometry-library-java-sbt 1\n"
     ]
    }
   ],
   "source": [
    "import os\n",
    "# Use PyGithub Lib\n",
    "import github\n",
    "from datetime import datetime\n",
    "\n",
    "token = os.environ['CHANGELOG_GITHUB_TOKEN']\n",
    "g = Github(token)\n",
    "\n",
    "print g.rate_limiting\n",
    "print datetime.fromtimestamp(g.rate_limiting_resettime) \n",
    "\n",
    "poc = g.get_user('Pocman')\n",
    "contributions = {}\n",
    "print poc.name\n",
    "\n",
    "loop_count = 0\n",
    "for event in poc.get_public_events():\n",
    "    if event.type == 'PushEvent':\n",
    "        try:\n",
    "            if event.repo.full_name in contributions:\n",
    "                contributions[event.repo.full_name] +=1\n",
    "            else:\n",
    "                contributions[event.repo.full_name] = 1\n",
    "                \n",
    "            #print \"Event: %s, on repo: %s\" % (event.type, event.repo.full_name)\n",
    "        except github.GithubException:\n",
    "            #print \"Unkown Repo\"\n",
    "            pass\n",
    "    loop_count += 1\n",
    "    \n",
    "    if loop_count % 20 == 0:\n",
    "        print \"============================================\"\n",
    "        print \"-> API Limit state: %s\" % str(g.rate_limiting)\n",
    "        print \"\"\n",
    "        print \"-> Contributions collected:\"\n",
    "        for repo, contribs in contributions.iteritems():\n",
    "            print repo, contribs"
   ]
  },
  {
   "cell_type": "code",
   "execution_count": null,
   "metadata": {
    "collapsed": true
   },
   "outputs": [],
   "source": []
  }
 ],
 "metadata": {
  "kernelspec": {
   "display_name": "Python 2",
   "language": "python",
   "name": "python2"
  },
  "language_info": {
   "codemirror_mode": {
    "name": "ipython",
    "version": 2
   },
   "file_extension": ".py",
   "mimetype": "text/x-python",
   "name": "python",
   "nbconvert_exporter": "python",
   "pygments_lexer": "ipython2",
   "version": "2.7.6"
  }
 },
 "nbformat": 4,
 "nbformat_minor": 0
}
