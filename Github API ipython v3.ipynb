{
 "cells": [
  {
   "cell_type": "markdown",
   "metadata": {},
   "source": [
    "# Github API v3 - Collect contributions"
   ]
  },
  {
   "cell_type": "code",
   "execution_count": 2,
   "metadata": {
    "collapsed": false
   },
   "outputs": [
    {
     "name": "stdout",
     "output_type": "stream",
     "text": [
      "(4783, 5000)\n",
      "2015-06-01 20:35:10\n",
      "Nicolas Joseph alias callicles\n",
      "============================================\n",
      "-> API Limit state: (4571, 5000)\n",
      "---> Consumed 212 requests\n",
      "-> Contributions collected:\n",
      "Linkurious/linkurious.js : 15 commits in 22 pushs on 1500 total commits\n",
      "gitlinks/gitrank-web : 1 commits in 1 pushs on 4 total commits\n",
      "callicles/flot-events : 1 commits in 2 pushs on 25 total commits\n",
      "Linkurious/angular-performance : 57 commits in 61 pushs on 57 total commits\n",
      "callicles/meteor-invite : 4 commits in 3 pushs on 4 total commits\n",
      "gitlinks/notebooks : 3 commits in 3 pushs on 9 total commits\n",
      "ChambreSonore/Web-Template : 4 commits in 3 pushs on 36 total commits\n",
      "ChambreSonore/webApp : 25 commits in 23 pushs on 25 total commits\n",
      "gitlinks/github-rank-project : 12 commits in 5 pushs on 16 total commits\n"
     ]
    }
   ],
   "source": [
    "import os\n",
    "# Use PyGithub Lib\n",
    "import github\n",
    "from datetime import datetime\n",
    "\n",
    "token = os.environ['CHANGELOG_GITHUB_TOKEN']\n",
    "g = github.Github(token)\n",
    "init_rate = g.rate_limiting\n",
    "\n",
    "print str(init_rate)\n",
    "print datetime.fromtimestamp(g.rate_limiting_resettime) \n",
    "\n",
    "user = g.get_user('callicles')\n",
    "pushs = {}\n",
    "print \"%s alias %s\" % (user.name, user.login)\n",
    "\n",
    "for event in user.get_public_events():\n",
    "    if event.type == 'PushEvent':\n",
    "        try:\n",
    "            if event.repo.full_name in pushs:\n",
    "                pushs[event.repo.full_name] +=1\n",
    "            else:\n",
    "                pushs[event.repo.full_name] = 1\n",
    "                \n",
    "            #print \"Event: %s, on repo: %s\" % (event.type, event.repo.full_name)\n",
    "        except github.GithubException:\n",
    "            #print \"Unkown Repo\"\n",
    "            pass\n",
    "\n",
    "repo_commits = {}\n",
    "user_commits = {}\n",
    "for repo, pushsCount in pushs.iteritems():\n",
    "    user_commits[repo] = 0\n",
    "    repo_commits[repo] = 0\n",
    "    for commit in g.get_repo(repo).get_commits():\n",
    "        if commit.author is not None and commit.author.login == user.login:\n",
    "            user_commits[repo] += 1\n",
    "        repo_commits[repo] +=1\n",
    "        \n",
    "rate_limit = g.rate_limiting\n",
    "print \"============================================\"\n",
    "print \"-> API Limit state: %s\" % str(rate_limit)\n",
    "print \"---> Consumed %d requests\" % (init_rate[0] - rate_limit[0])\n",
    "print \"-> Contributions collected:\"\n",
    "for repo, pushsCount in pushs.iteritems():\n",
    "    print \"%s : %d commits in %d pushs on %d total commits\" % (repo, user_commits[repo], pushsCount, repo_commits[repo])\n",
    "        "
   ]
  },
  {
   "cell_type": "code",
   "execution_count": null,
   "metadata": {
    "collapsed": true
   },
   "outputs": [],
   "source": []
  }
 ],
 "metadata": {
  "kernelspec": {
   "display_name": "Python 2",
   "language": "python",
   "name": "python2"
  },
  "language_info": {
   "codemirror_mode": {
    "name": "ipython",
    "version": 2
   },
   "file_extension": ".py",
   "mimetype": "text/x-python",
   "name": "python",
   "nbconvert_exporter": "python",
   "pygments_lexer": "ipython2",
   "version": "2.7.6"
  }
 },
 "nbformat": 4,
 "nbformat_minor": 0
}
