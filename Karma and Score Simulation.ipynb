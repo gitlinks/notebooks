{
 "cells": [
  {
   "cell_type": "markdown",
   "metadata": {},
   "source": [
    "# Initiate random dataset"
   ]
  },
  {
   "cell_type": "code",
   "execution_count": 29,
   "metadata": {
    "collapsed": false
   },
   "outputs": [
    {
     "name": "stdout",
     "output_type": "stream",
     "text": [
      "Generating repos ...\n",
      "-> 200 repos generated\n",
      "Generating users ...\n",
      "-> 50 users generated\n",
      "Generating contributions ...\n",
      "-> 4955 commits generated\n"
     ]
    }
   ],
   "source": [
    "import random\n",
    "from faker import Factory\n",
    "\n",
    "### Simulation parameters\n",
    "\n",
    "MAX_REPO_COMMIT_COUNT = 4000\n",
    "MAX_PUSH_COMMIT_COUNT = 10\n",
    "NUMBER_OF_REPOS = 200\n",
    "NUMBER_OF_USERS = 50\n",
    "NUMBER_OF_PUSHS = 1000\n",
    "\n",
    "faker = Factory.create()\n",
    "\n",
    "# repos are mapped by id\n",
    "repos = {}\n",
    "# users are mapped by id\n",
    "users = {}\n",
    "\n",
    "print \"Generating repos ...\"\n",
    "for i in range(0, NUMBER_OF_REPOS):\n",
    "    repos[str(i)] = {\n",
    "        'id': i, \n",
    "        'repo_name': faker.domain_word(), \n",
    "        'score': 0, \n",
    "        'commit_count': 0,\n",
    "        'contributors': {}\n",
    "    }\n",
    "print \"-> %d repos generated\" % len(repos.keys())\n",
    "\n",
    "\n",
    "print \"Generating users ...\"\n",
    "for i in range(0, NUMBER_OF_USERS):\n",
    "    users[str(i)] = {\n",
    "        'id': i, \n",
    "        'username': faker.user_name(), \n",
    "        'karma': 0,\n",
    "        'contributions': {} # key id of the repository, value number of contributions\n",
    "    }\n",
    "print \"-> %d users generated\" % len(users.keys())\n",
    "    \n",
    "    \n",
    "print \"Generating contributions ...\"\n",
    "total_commit_count = 0\n",
    "for i in range(0, NUMBER_OF_PUSHS ):\n",
    "    contrib_repo_id = str(random.randint(0, NUMBER_OF_REPOS - 1))\n",
    "    contrib_user_id = str(random.randint(0, NUMBER_OF_USERS - 1))\n",
    "    contrib_commit_count = random.randint(1, MAX_PUSH_COMMIT_COUNT - 1)\n",
    "    \n",
    "    if repos[contrib_repo_id]['commit_count'] + contrib_commit_count < MAX_REPO_COMMIT_COUNT:\n",
    "        repos[contrib_repo_id]['commit_count'] += contrib_commit_count\n",
    "        total_commit_count += contrib_commit_count\n",
    "        \n",
    "        # Mapping contributions from user to repos\n",
    "        if contrib_repo_id in users[contrib_user_id]['contributions']:\n",
    "            users[contrib_user_id]['contributions'][contrib_repo_id] += contrib_commit_count\n",
    "        else:\n",
    "            users[contrib_user_id]['contributions'][contrib_repo_id] = contrib_commit_count\n",
    "        \n",
    "        # Mapping contributions from repos to users\n",
    "        if contrib_user_id in repos[contrib_repo_id]['contributors']:\n",
    "            repos[contrib_repo_id]['contributors'][contrib_user_id] += contrib_commit_count\n",
    "        else:\n",
    "            repos[contrib_repo_id]['contributors'][contrib_user_id] = contrib_commit_count\n",
    "print \"-> %d commits generated\" % total_commit_count\n",
    "\n",
    "\n",
    "def scoreRepo(userId, repoId, rating):\n",
    "    if rating['doc'] is None or rating['code_quality'] is None or rating['support'] is None:\n",
    "        print \"Can't vote, missing one argument\"\n",
    "    else:\n",
    "        # Basic implementation of scoring algorithm\n",
    "        repos[repoId]['score'] = (repos[repoId]['score'] + users[userId]['karma'] * (rating['doc'] + rating['code_quality'] + rating['support']) / 3) / (2 + users[userId]['karma'])\n",
    "        propagateScoreChange(repoId)\n",
    "        \n",
    "def propagateScoreChange(repoId):\n",
    "    currentRepo = repos[repoId]\n",
    "    for userId, contributions in repos[repoId]['contributors'].iteritems():\n",
    "        # Basic implementation of propagation algorithm\n",
    "        users[userId]['karma'] = ( users[userId]['karma'] + (contributions / currentRepo['commit_count']) * currentRepo['score']) / 2\n",
    "        "
   ]
  },
  {
   "cell_type": "markdown",
   "metadata": {
    "collapsed": true
   },
   "source": [
    "# Info plots on the generated dataset\n",
    "\n",
    "## Contributions distribution"
   ]
  },
  {
   "cell_type": "code",
   "execution_count": 25,
   "metadata": {
    "collapsed": true
   },
   "outputs": [],
   "source": [
    "%matplotlib inline\n",
    "\n",
    "import numpy as np\n",
    "import matplotlib.mlab as mlab\n",
    "import matplotlib.pyplot as plt"
   ]
  },
  {
   "cell_type": "code",
   "execution_count": 26,
   "metadata": {
    "collapsed": false
   },
   "outputs": [
    {
     "data": {
      "image/png": "[encoded data removed]",
      "text/plain": [
       "<matplotlib.figure.Figure at 0x10b662250>"
      ]
     },
     "metadata": {},
     "output_type": "display_data"
    }
   ],
   "source": [
    "contributions = []\n",
    "\n",
    "for user_id, user in users.iteritems():\n",
    "\n",
    "    acc = 0\n",
    "    for repo_id, contribs in user['contributions'].iteritems():\n",
    "        acc += contribs\n",
    "    \n",
    "    contributions.append(acc)\n",
    "\n",
    "n, bins, patches = plt.hist(contributions, 50, normed=1, facecolor='green', alpha=0.5)\n",
    "\n",
    "mu = np.mean(contributions)\n",
    "sigma = np.std(contributions)\n",
    "\n",
    "y = mlab.normpdf(bins, mu, sigma)\n",
    "plt.plot(bins, y, '--r')\n",
    "plt.xlabel('Contributions/User')\n",
    "plt.ylabel('Probability')\n",
    "plt.show()"
   ]
  },
  {
   "cell_type": "markdown",
   "metadata": {
    "collapsed": true
   },
   "source": [
    "## Karma Distribution"
   ]
  },
  {
   "cell_type": "code",
   "execution_count": 22,
   "metadata": {
    "collapsed": false
   },
   "outputs": [
    {
     "name": "stderr",
     "output_type": "stream",
     "text": [
      "/System/Library/Frameworks/Python.framework/Versions/2.7/Extras/lib/python/matplotlib/mlab.py:716: RuntimeWarning: divide by zero encountered in double_scalars\n",
      "  return 1./(np.sqrt(2*np.pi)*sigma)*np.exp(-0.5 * (1./sigma*(x - mu))**2)\n",
      "/System/Library/Frameworks/Python.framework/Versions/2.7/Extras/lib/python/matplotlib/mlab.py:716: RuntimeWarning: invalid value encountered in multiply\n",
      "  return 1./(np.sqrt(2*np.pi)*sigma)*np.exp(-0.5 * (1./sigma*(x - mu))**2)\n"
     ]
    },
    {
     "data": {
      "image/png": "[encoded data removed]",
      "text/plain": [
       "<matplotlib.figure.Figure at 0x10e5e2050>"
      ]
     },
     "metadata": {},
     "output_type": "display_data"
    }
   ],
   "source": [
    "karmas = []\n",
    "\n",
    "for user_id, user in users.iteritems():\n",
    "    karmas.append(user['karma'])\n",
    "\n",
    "n, bins, patches = plt.hist(karmas, 50, normed=1, facecolor='green', alpha=0.5)\n",
    "\n",
    "mu = np.mean(karmas)\n",
    "sigma = np.std(karmas)\n",
    "\n",
    "y = mlab.normpdf(bins, mu, sigma)\n",
    "plt.plot(bins, y, '--r')\n",
    "plt.xlabel('Karma')\n",
    "plt.ylabel('Probability')\n",
    "plt.show()"
   ]
  },
  {
   "cell_type": "markdown",
   "metadata": {},
   "source": [
    "## Score Distribution"
   ]
  },
  {
   "cell_type": "code",
   "execution_count": null,
   "metadata": {
    "collapsed": true
   },
   "outputs": [],
   "source": [
    "scores = []\n",
    "\n",
    "for user_id, user in users.iteritems():\n",
    "    scores.append(user['score'])\n",
    "\n",
    "n, bins, patches = plt.hist(scores, 50, normed=1, facecolor='green', alpha=0.5)\n",
    "\n",
    "mu = np.mean(scores)\n",
    "sigma = np.std(scores)\n",
    "\n",
    "y = mlab.normpdf(bins, mu, sigma)\n",
    "plt.plot(bins, y, '--r')\n",
    "plt.xlabel('Score')\n",
    "plt.ylabel('Probability')\n",
    "plt.show()"
   ]
  },
  {
   "cell_type": "markdown",
   "metadata": {},
   "source": [
    "# "
   ]
  }
 ],
 "metadata": {
  "kernelspec": {
   "display_name": "Python 2",
   "language": "python",
   "name": "python2"
  },
  "language_info": {
   "codemirror_mode": {
    "name": "ipython",
    "version": 2
   },
   "file_extension": ".py",
   "mimetype": "text/x-python",
   "name": "python",
   "nbconvert_exporter": "python",
   "pygments_lexer": "ipython2",
   "version": "2.7.6"
  }
 },
 "nbformat": 4,
 "nbformat_minor": 0
}
