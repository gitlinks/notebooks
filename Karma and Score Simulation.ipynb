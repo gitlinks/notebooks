{
 "cells": [
  {
   "cell_type": "markdown",
   "metadata": {},
   "source": [
    "# Initiate random dataset"
   ]
  },
  {
   "cell_type": "code",
   "execution_count": 19,
   "metadata": {
    "collapsed": false
   },
   "outputs": [
    {
     "name": "stdout",
     "output_type": "stream",
     "text": [
      "Generating repos ...\n",
      "-> 199 repos generated\n",
      "Generating users ...\n",
      "-> 49 users generated\n",
      "Generating contributions ...\n",
      "-> 4281 commits generated\n"
     ]
    }
   ],
   "source": [
    "import random\n",
    "from faker import Factory\n",
    "\n",
    "### Simulation parameters\n",
    "\n",
    "MAX_REPO_COMMIT_COUNT = 4000\n",
    "MAX_PUSH_COMMIT_COUNT = 10\n",
    "NUMBER_OF_REPOS = 200\n",
    "NUMBER_OF_USERS = 50\n",
    "NUMBER_OF_PUSHS = 1000\n",
    "\n",
    "faker = Factory.create()\n",
    "\n",
    "# repos are mapped by id\n",
    "repos = {}\n",
    "# users are mapped by id\n",
    "users = {}\n",
    "\n",
    "print \"Generating repos ...\"\n",
    "for i in range(0, NUMBER_OF_REPOS - 1):\n",
    "    repos[str(i)] = {\n",
    "        'id': i, \n",
    "        'repo_name': faker.domain_word(), \n",
    "        'score': 0, \n",
    "        'commit_count': 0\n",
    "    }\n",
    "print \"-> %d repos generated\" % len(repos.keys())\n",
    "\n",
    "\n",
    "print \"Generating users ...\"\n",
    "for i in range(0, NUMBER_OF_USERS - 1):\n",
    "    users[str(i)] = {\n",
    "        'id': i, \n",
    "        'username': faker.user_name(), \n",
    "        'karma': 0,\n",
    "        'contributions': {} # key id of the repository, value number of contributions\n",
    "    }\n",
    "print \"-> %d users generated\" % len(users.keys())\n",
    "    \n",
    "    \n",
    "print \"Generating contributions ...\"\n",
    "total_commit_count = 0\n",
    "for i in range(0, NUMBER_OF_PUSHS - 1):\n",
    "    contrib_repo_id = str(random.randint(0, NUMBER_OF_REPOS - 2))\n",
    "    contrib_user_id = str(random.randint(0, NUMBER_OF_USERS - 2))\n",
    "    contrib_commit_count = random.randint(1, MAX_PUSH_COMMIT_COUNT - 2)\n",
    "    \n",
    "    if repos[contrib_repo_id]['commit_count'] + contrib_commit_count < MAX_REPO_COMMIT_COUNT:\n",
    "        repos[contrib_repo_id]['commit_count'] += contrib_commit_count\n",
    "        total_commit_count += contrib_commit_count\n",
    "        if contrib_repo_id in users[contrib_user_id]['contributions']:\n",
    "            users[contrib_user_id]['contributions'][contrib_repo_id] += contrib_commit_count\n",
    "        else:\n",
    "            users[contrib_user_id]['contributions'][contrib_repo_id] = contrib_commit_count\n",
    "print \"-> %d commits generated\" % total_commit_count"
   ]
  },
  {
   "cell_type": "markdown",
   "metadata": {
    "collapsed": true
   },
   "source": [
    "# Info plots on the generated dataset"
   ]
  },
  {
   "cell_type": "code",
   "execution_count": null,
   "metadata": {
    "collapsed": true
   },
   "outputs": [],
   "source": [
    "import matplotlib.mlab as mlab\n",
    "import matplotlib.pyplot as plt\n",
    "\n",
    "# TODO: Put data into dataFrames\n",
    "# TODO: Plot distribution of the generated data"
   ]
  },
  {
   "cell_type": "code",
   "execution_count": null,
   "metadata": {
    "collapsed": true
   },
   "outputs": [],
   "source": []
  }
 ],
 "metadata": {
  "kernelspec": {
   "display_name": "Python 2",
   "language": "python",
   "name": "python2"
  },
  "language_info": {
   "codemirror_mode": {
    "name": "ipython",
    "version": 2
   },
   "file_extension": ".py",
   "mimetype": "text/x-python",
   "name": "python",
   "nbconvert_exporter": "python",
   "pygments_lexer": "ipython2",
   "version": "2.7.6"
  }
 },
 "nbformat": 4,
 "nbformat_minor": 0
}
