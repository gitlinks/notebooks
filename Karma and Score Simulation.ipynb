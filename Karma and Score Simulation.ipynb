{
 "cells": [
  {
   "cell_type": "markdown",
   "metadata": {},
   "source": [
    "# Initiate random dataset"
   ]
  },
  {
   "cell_type": "code",
   "execution_count": 173,
   "metadata": {
    "collapsed": false
   },
   "outputs": [
    {
     "name": "stdout",
     "output_type": "stream",
     "text": [
      "Generating repos ...\n",
      "-> 200 repos generated\n",
      "Generating users ...\n",
      "-> 50 users generated\n",
      "Generating contributions ...\n",
      "-> 5065 commits generated\n"
     ]
    }
   ],
   "source": [
    "import random\n",
    "from faker import Factory\n",
    "\n",
    "### Simulation parameters\n",
    "\n",
    "MAX_REPO_COMMIT_COUNT = 4000\n",
    "MAX_PUSH_COMMIT_COUNT = 10\n",
    "NUMBER_OF_REPOS = 200\n",
    "NUMBER_OF_USERS = 50\n",
    "NUMBER_OF_PUSHS = 1000\n",
    "NUMBER_OF_SCORING = 450\n",
    "AVERALL_AVERAGE_RATE = 0.7\n",
    "\n",
    "faker = Factory.create()\n",
    "\n",
    "# repos are mapped by id\n",
    "repos = {}\n",
    "# users are mapped by id\n",
    "users = {}\n",
    "\n",
    "print \"Generating repos ...\"\n",
    "for i in range(0, NUMBER_OF_REPOS):\n",
    "    repos[str(i)] = {\n",
    "        'id': i, \n",
    "        'repo_name': faker.domain_word(), \n",
    "        'ratings': {},\n",
    "        'score': -1,\n",
    "        'commit_count': 0,\n",
    "        'contributors': {}\n",
    "    }\n",
    "print \"-> %d repos generated\" % len(repos.keys())\n",
    "\n",
    "\n",
    "print \"Generating users ...\"\n",
    "for i in range(0, NUMBER_OF_USERS):\n",
    "    users[str(i)] = {\n",
    "        'id': i, \n",
    "        'username': faker.user_name(), \n",
    "        'karma': 1, # at first, everyone has the same karma\n",
    "        'contributions': {}, # key id of the repository, value number of contributions\n",
    "        'ratings': {}\n",
    "    }\n",
    "print \"-> %d users generated\" % len(users.keys())\n",
    "    \n",
    "    \n",
    "print \"Generating contributions ...\"\n",
    "total_commit_count = 0\n",
    "for i in range(0, NUMBER_OF_PUSHS ):\n",
    "    contrib_repo_id = str(random.randint(0, NUMBER_OF_REPOS - 1))\n",
    "    contrib_user_id = str(random.randint(0, NUMBER_OF_USERS - 1))\n",
    "    contrib_commit_count = random.randint(1, MAX_PUSH_COMMIT_COUNT - 1)\n",
    "    \n",
    "    if repos[contrib_repo_id]['commit_count'] + contrib_commit_count < MAX_REPO_COMMIT_COUNT:\n",
    "        repos[contrib_repo_id]['commit_count'] += contrib_commit_count\n",
    "        total_commit_count += contrib_commit_count\n",
    "        \n",
    "        # Mapping contributions from user to repos\n",
    "        if contrib_repo_id in users[contrib_user_id]['contributions']:\n",
    "            users[contrib_user_id]['contributions'][contrib_repo_id] += contrib_commit_count\n",
    "        else:\n",
    "            users[contrib_user_id]['contributions'][contrib_repo_id] = contrib_commit_count\n",
    "        \n",
    "        # Mapping contributions from repos to users\n",
    "        if contrib_user_id in repos[contrib_repo_id]['contributors']:\n",
    "            repos[contrib_repo_id]['contributors'][contrib_user_id] += contrib_commit_count\n",
    "        else:\n",
    "            repos[contrib_repo_id]['contributors'][contrib_user_id] = contrib_commit_count\n",
    "print \"-> %d commits generated\" % total_commit_count"
   ]
  },
  {
   "cell_type": "code",
   "execution_count": 174,
   "metadata": {
    "collapsed": false
   },
   "outputs": [
    {
     "name": "stdout",
     "output_type": "stream",
     "text": [
      "Generating scores ...\n"
     ]
    }
   ],
   "source": [
    "#the biggest the number of commit the highest the chance of being rated\n",
    "\n",
    "repos_pd = pd.DataFrame.from_dict(repos, orient='index')\n",
    "repos_pd.sort(['commit_count'], ascending=[0], inplace=True)\n",
    "\n",
    "def get_weighted_random_repo_id():\n",
    "    from math import log\n",
    "    beta = NUMBER_OF_REPOS / ( 10 * log(2)) # median around NUMBER_OF_REPOS / 10\n",
    "    return repos_pd.index[min(np.random.exponential(beta), NUMBER_OF_REPOS-1)]\n",
    "\n",
    "def biaised_rate(rates):\n",
    "    if rates == []:\n",
    "        return np.random.binomial(5, AVERALL_AVERAGE_RATE)\n",
    "    else:\n",
    "        return np.random.binomial(5, np.mean(rates)/5.1)\n",
    "    \n",
    "def scoreRepo(userId, repoId, rating):\n",
    "    if rating['doc'] is None or rating['code_quality'] is None or rating['support'] is None:\n",
    "        print \"Can't vote, missing one argument\"\n",
    "    else:\n",
    "        # Basic implementation of scoring algorithm\n",
    "        repos[repoId]['ratings'][userId] = rating\n",
    "        if repos[repoId]['score'] == -1:\n",
    "            repos[repoId]['score'] = (rating['doc'] + rating['code_quality'] + rating['support']) / 3\n",
    "        else:\n",
    "            repos[repoId]['score'] = (repos[repoId]['score'] + users[userId]['karma'] * (rating['doc'] + rating['code_quality'] + rating['support']) / 3) / (2 + users[userId]['karma'])\n",
    "        propagateScoreChange(repoId)\n",
    "        \n",
    "def propagateScoreChange(repoId):\n",
    "    currentRepo = repos[repoId]\n",
    "    for userId, contributions in repos[repoId]['contributors'].iteritems():\n",
    "        # Basic implementation of propagation algorithm\n",
    "        users[userId]['karma'] = ( users[userId]['karma'] + (contributions / currentRepo['commit_count']) * currentRepo['score']) / 2\n",
    "        \n",
    "    \n",
    "print \"Generating scores ...\"\n",
    "total_scoring_count = 0\n",
    "for i in range(0, NUMBER_OF_SCORING):\n",
    "    scoring_repo_id = get_weighted_random_repo_id()\n",
    "    scoring_user_id = random.choice(repos[scoring_repo_id]['contributors'].keys())\n",
    "    \n",
    "    ratings = repos[scoring_repo_id]['ratings'].itervalues()\n",
    "    arguments = ['doc', 'support', 'code_quality']\n",
    "    rating ={arg: biaised_rate([r[arg] for r in ratings]) for arg in arguments}\n",
    "\n",
    "    scoreRepo(scoring_user_id, scoring_repo_id, rating)\n",
    "    total_scoring_count += 1"
   ]
  },
  {
   "cell_type": "markdown",
   "metadata": {
    "collapsed": true
   },
   "source": [
    "# Info plots on the generated dataset\n",
    "\n",
    "## Contributions distribution"
   ]
  },
  {
   "cell_type": "code",
   "execution_count": 175,
   "metadata": {
    "collapsed": true
   },
   "outputs": [],
   "source": [
    "%matplotlib inline\n",
    "\n",
    "import numpy as np\n",
    "import matplotlib.mlab as mlab\n",
    "import matplotlib.pyplot as plt"
   ]
  },
  {
   "cell_type": "code",
   "execution_count": 176,
   "metadata": {
    "collapsed": false
   },
   "outputs": [
    {
     "data": {
      "image/png": "[encoded data removed]",
      "text/plain": [
       "<matplotlib.figure.Figure at 0x10965db10>"
      ]
     },
     "metadata": {},
     "output_type": "display_data"
    }
   ],
   "source": [
    "contributions = []\n",
    "\n",
    "for user_id, user in users.iteritems():\n",
    "\n",
    "    acc = 0\n",
    "    for repo_id, contribs in user['contributions'].iteritems():\n",
    "        acc += contribs\n",
    "    \n",
    "    contributions.append(acc)\n",
    "\n",
    "n, bins, patches = plt.hist(contributions, 50, normed=1, facecolor='green', alpha=0.5)\n",
    "\n",
    "mu = np.mean(contributions)\n",
    "sigma = np.std(contributions)\n",
    "\n",
    "y = mlab.normpdf(bins, mu, sigma)\n",
    "plt.plot(bins, y, '--r')\n",
    "plt.xlabel('Contributions/User')\n",
    "plt.ylabel('Probability')\n",
    "plt.show()"
   ]
  },
  {
   "cell_type": "markdown",
   "metadata": {
    "collapsed": true
   },
   "source": [
    "## Karma Distribution"
   ]
  },
  {
   "cell_type": "code",
   "execution_count": 177,
   "metadata": {
    "collapsed": false
   },
   "outputs": [
    {
     "data": {
      "image/png": "[encoded data removed]",
      "text/plain": [
       "<matplotlib.figure.Figure at 0x10931da90>"
      ]
     },
     "metadata": {},
     "output_type": "display_data"
    }
   ],
   "source": [
    "karmas = []\n",
    "\n",
    "for user_id, user in users.iteritems():\n",
    "    karmas.append(user['karma'])\n",
    "\n",
    "n, bins, patches = plt.hist(karmas, 50, normed=1, facecolor='green', alpha=0.5)\n",
    "\n",
    "mu = np.mean(karmas)\n",
    "sigma = np.std(karmas)\n",
    "\n",
    "y = mlab.normpdf(bins, mu, sigma)\n",
    "plt.plot(bins, y, '--r')\n",
    "plt.xlabel('Karma')\n",
    "plt.ylabel('Probability')\n",
    "plt.show()"
   ]
  },
  {
   "cell_type": "markdown",
   "metadata": {},
   "source": [
    "## Score Distribution"
   ]
  },
  {
   "cell_type": "code",
   "execution_count": 181,
   "metadata": {
    "collapsed": false
   },
   "outputs": [
    {
     "data": {
      "image/png": "[encoded data removed]",
      "text/plain": [
       "<matplotlib.figure.Figure at 0x1084020d0>"
      ]
     },
     "metadata": {},
     "output_type": "display_data"
    }
   ],
   "source": [
    "scores = []\n",
    "\n",
    "for repo_id, repo in repos.iteritems():\n",
    "    if repo['score'] > 0:\n",
    "        scores.append(repo['score'])\n",
    "\n",
    "n, bins, patches = plt.hist(scores, 50, normed=1, facecolor='green', alpha=0.5)\n",
    "\n",
    "mu = np.mean(scores)\n",
    "sigma = np.std(scores)\n",
    "\n",
    "y = mlab.normpdf(bins, mu, sigma)\n",
    "plt.plot(bins, y, '--r')\n",
    "plt.xlabel('Score')\n",
    "plt.ylabel('Probability')\n",
    "plt.show()"
   ]
  },
  {
   "cell_type": "markdown",
   "metadata": {},
   "source": [
    "# "
   ]
  },
  {
   "cell_type": "code",
   "execution_count": null,
   "metadata": {
    "collapsed": true
   },
   "outputs": [],
   "source": []
  }
 ],
 "metadata": {
  "kernelspec": {
   "display_name": "Python 2",
   "language": "python",
   "name": "python2"
  },
  "language_info": {
   "codemirror_mode": {
    "name": "ipython",
    "version": 2
   },
   "file_extension": ".py",
   "mimetype": "text/x-python",
   "name": "python",
   "nbconvert_exporter": "python",
   "pygments_lexer": "ipython2",
   "version": "2.7.9"
  }
 },
 "nbformat": 4,
 "nbformat_minor": 0
}
